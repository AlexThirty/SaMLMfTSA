{
 "cells": [
  {
   "cell_type": "code",
   "execution_count": 1,
   "metadata": {},
   "outputs": [],
   "source": [
    "import matplotlib.pyplot as plt\n",
    "import numpy as np\n",
    "import pandas as pd\n",
    "import tensorflow as tf\n",
    "import pandas as pd\n",
    "import os\n",
    "import PIL.Image as Image\n",
    "from sklearn.ensemble import RandomForestClassifier, IsolationForest\n",
    "from sklearn.metrics import accuracy_score, precision_score, recall_score, f1_score\n",
    "from sklearn.model_selection import train_test_split\n",
    "from sklearn.preprocessing import StandardScaler\n",
    "from sklearn.preprocessing import MinMaxScaler\n",
    "import importlib\n",
    "from plot_utils.MNIST_plot_utils import scale_to_unit_interval, save_ten_images, plot_ten_images, tile_raster_images\n",
    "from plot_utils.ts_plot_utils import plot_ts, plot_ts_recon, save_ts, save_ts_recon, save_ts_recon_if\n",
    "from plot_utils.heatmap import heatmap, annotate_heatmap\n",
    "\n",
    "seed=30\n",
    "np.random.seed(seed)\n",
    "tf.random.set_seed(seed)"
   ]
  },
  {
   "cell_type": "code",
   "execution_count": 2,
   "metadata": {},
   "outputs": [],
   "source": [
    "def subsequences(ts, window):\n",
    "    shape = (ts.size - window + 1, window)\n",
    "    strides = ts.strides * 2\n",
    "    return np.lib.stride_tricks.as_strided(ts, shape=shape, strides=strides)"
   ]
  },
  {
   "cell_type": "markdown",
   "metadata": {},
   "source": [
    "# L21 Experiment on Time series\n",
    "## Isolation Forest"
   ]
  },
  {
   "cell_type": "code",
   "execution_count": 3,
   "metadata": {},
   "outputs": [
    {
     "name": "stdout",
     "output_type": "stream",
     "text": [
      "(22464,)\n"
     ]
    }
   ],
   "source": [
    "df = pd.read_csv(os.path.join('data', 'realKnownCause', 'machine_temperature_system_failure.csv'), delimiter=',', decimal='.')\n",
    "df.drop_duplicates(subset='timestamp', keep='first', inplace=True)\n",
    "ts_timestamps = df.iloc[:,0].values[33:-186]\n",
    "ts_values = np.array(df.iloc[:,1].values[33:-186])\n",
    "print(ts_values.shape)\n",
    "#ts_values_daily = ts_values.copy().reshape((int(ts_values.shape[0]/(12*24)), 12*24, 1))\n",
    "\n",
    "timesteps = 144\n",
    "ts_data = subsequences(ts_values, timesteps)\n",
    "\n",
    "scaler = MinMaxScaler()\n",
    "ts_data_scaled = scaler.fit_transform(X=ts_data)\n",
    "\n",
    "ts_train_dense = ts_data_scaled.copy()\n",
    "np.random.shuffle(ts_train_dense)"
   ]
  },
  {
   "cell_type": "code",
   "execution_count": 4,
   "metadata": {},
   "outputs": [],
   "source": [
    "fraction = 0.01"
   ]
  },
  {
   "cell_type": "code",
   "execution_count": 5,
   "metadata": {},
   "outputs": [
    {
     "name": "stdout",
     "output_type": "stream",
     "text": [
      "224\n"
     ]
    }
   ],
   "source": [
    "contaminations = np.arange(start=0.01, stop=0.5, step=0.01)\n",
    "contaminations_len = len(contaminations)\n",
    "\n",
    "if_accuracies = np.zeros(contaminations_len)\n",
    "if_precisions = np.zeros(contaminations_len)\n",
    "if_recalls = np.zeros(contaminations_len)\n",
    "if_f1_scores = np.zeros(contaminations_len)\n",
    "\n",
    "isol_forest = IsolationForest(n_estimators=500, max_features=5, random_state=seed, contamination=fraction)\n",
    "isol_forest.fit(X=ts_train_dense)\n",
    "if_anomaly_detected = isol_forest.predict(X=ts_train_dense)\n",
    "if_anomaly_detected = ((-if_anomaly_detected) + 1) / 2\n",
    "if_anomaly_detected = if_anomaly_detected.astype(int)\n",
    "    \n",
    "print(sum(if_anomaly_detected))\n",
    "         \n",
    "anomalies = np.argwhere(if_anomaly_detected)\n",
    "np.random.shuffle(anomalies)\n",
    "folder = os.path.join('.', 'l21_experiment_ts')"
   ]
  },
  {
   "cell_type": "code",
   "execution_count": 6,
   "metadata": {},
   "outputs": [],
   "source": [
    "if len(anomalies)>0:\n",
    "    for i in range(min(len(anomalies), 10)):\n",
    "        ind = anomalies[i][0]\n",
    "        save_ts_recon_if(ts_train_dense[ind], ind+1, filename=os.path.join('l21_experiment_ts', 'anom_if'+str(fraction)+'pos'+str(ind+1)+'.jpg'))"
   ]
  }
 ],
 "metadata": {
  "kernelspec": {
   "display_name": "Python 3.9.12 64-bit (system)",
   "language": "python",
   "name": "python3"
  },
  "language_info": {
   "codemirror_mode": {
    "name": "ipython",
    "version": 3
   },
   "file_extension": ".py",
   "mimetype": "text/x-python",
   "name": "python",
   "nbconvert_exporter": "python",
   "pygments_lexer": "ipython3",
   "version": "3.9.12"
  },
  "orig_nbformat": 4,
  "vscode": {
   "interpreter": {
    "hash": "2692c985375d31b3da8770a087597fbdbb725d2d8a937843e14c78467e5dd825"
   }
  }
 },
 "nbformat": 4,
 "nbformat_minor": 2
}
